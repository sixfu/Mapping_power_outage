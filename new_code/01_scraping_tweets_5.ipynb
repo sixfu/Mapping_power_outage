{
 "cells": [
  {
   "cell_type": "markdown",
   "metadata": {},
   "source": [
    "## **Notebook Contents**\n",
    "- Import Libraries\n",
    "- Function to Grab Date, Tweet, & Username For the Queries\n",
    "- Pull in Tweets\n",
    "- Make Combined DataFrames\n",
    "- Final Dataframe\n",
    "- Adding Random Tweets\n"
   ]
  },
  {
   "cell_type": "markdown",
   "metadata": {},
   "source": [
    "## **Import Libraries**"
   ]
  },
  {
   "cell_type": "code",
   "execution_count": null,
   "metadata": {},
   "outputs": [],
   "source": [
    "import GetOldTweets3 as got\n",
    "import time\n",
    "from datetime import datetime, date, timedelta\n",
    "import pandas as pd\n",
    "import numpy as np\n",
    "import os\n",
    "import tweepy as tw"
   ]
  },
  {
   "cell_type": "markdown",
   "metadata": {},
   "source": [
    "## **Function to Grab Date, Tweet, & Username For the Queries**"
   ]
  },
  {
   "cell_type": "code",
   "execution_count": null,
   "metadata": {},
   "outputs": [],
   "source": [
    "# Source: https://github.com/Mottl/GetOldTweets3/issues/57\n",
    "# Credit to Clairedevries\n",
    "\n",
    "# Tweet scraper function\n",
    "def DownloadTweets(SinceDate, UntilDate, Query):\n",
    "    '''\n",
    "    Downloads all tweets from a certain month in three sessions in order to avoid sending too many requests. \n",
    "    Date format = 'yyyy-mm-dd'. \n",
    "    '''\n",
    "    since = datetime.strptime(SinceDate, '%Y-%m-%d')\n",
    "    until= datetime.strptime(UntilDate, '%Y-%m-%d')\n",
    "    tenth = since + timedelta(days = 10)\n",
    "    twentieth = since + timedelta(days=20)\n",
    "    \n",
    "    first = got.manager.TweetCriteria().setQuerySearch(Query).setSince(since.strftime('%Y-%m-%d')).setUntil(tenth.strftime('%Y-%m-%d'))\n",
    "    firstdownload = got.manager.TweetManager.getTweets(first)\n",
    "    firstlist=[[tweet.date, tweet.text, tweet.username] for tweet in firstdownload]\n",
    "    \n",
    "    # The first 10 days of the month\n",
    "    df_1 = pd.DataFrame.from_records(firstlist, columns = [\"date\", \"tweet\", \"user\"])\n",
    "\n",
    "    # We set a 10 minute sleep timer to ensure a max iteration limit is not hit.\n",
    "    time.sleep(600)\n",
    "    \n",
    "    second = got.manager.TweetCriteria().setQuerySearch(Query).setSince(tenth.strftime('%Y-%m-%d')).setUntil(twentieth.strftime('%Y-%m-%d'))\n",
    "    seconddownload = got.manager.TweetManager.getTweets(second)\n",
    "    secondlist=[[tweet.date, tweet.text, tweet.username] for tweet in seconddownload]\n",
    "    \n",
    "    # The second 10 days of the month\n",
    "    df_2 = pd.DataFrame.from_records(secondlist, columns = [\"date\", \"tweet\", \"user\"])\n",
    "    \n",
    "    time.sleep(600)\n",
    "    \n",
    "    print ('Finishing the month')\n",
    "    print('='*28)\n",
    "    third = got.manager.TweetCriteria().setQuerySearch(Query).setSince(twentieth.strftime('%Y-%m-%d')).setUntil(until.strftime('%Y-%m-%d'))\n",
    "    thirddownload = got.manager.TweetManager.getTweets(third)\n",
    "    thirdlist=[[tweet.date, tweet.text, tweet.username] for tweet in thirddownload]\n",
    "    \n",
    "    # The rest of the month\n",
    "    df_3 = pd.DataFrame.from_records(thirdlist, columns = [\"date\", \"tweet\", \"user\"])\n",
    "    \n",
    "    df=pd.concat([df_1,df_2,df_3])\n",
    "  \n",
    "    return df # The final dataframe of the month is returned"
   ]
  },
  {
   "cell_type": "markdown",
   "metadata": {},
   "source": [
    "### **Pull In Tweets**\n",
    "\n",
    "Queries:\n",
    "- my power went out  \n",
    "- i lost power  \n",
    "- there is a power outage  \n",
    "- I have no power  "
   ]
  },
  {
   "cell_type": "code",
   "execution_count": null,
   "metadata": {},
   "outputs": [],
   "source": [
    "# My Power Went Out\n",
    "jan_fin_tweets_mpwo =  DownloadTweets('2020-01-01', '2020-01-31', 'my power went out')\n",
    "time.sleep(100)\n",
    "feb_fin_tweets_mpwo =  DownloadTweets('2020-02-01', '2020-02-29', 'my power went out')\n",
    "time.sleep(100)\n",
    "mar_fin_tweets_mpwo =  DownloadTweets('2020-03-01', '2020-03-31', 'my power went out')\n",
    "time.sleep(100)\n",
    "apr_fin_tweets_mpwo =  DownloadTweets('2020-04-01', '2020-04-30', 'my power went out')\n",
    "time.sleep(100)\n",
    "may_fin_tweets_mpwo =  DownloadTweets('2020-05-01', '2020-05-31', 'my power went out')\n",
    "time.sleep(100)\n",
    "jun_fin_tweets_mpwo =  DownloadTweets('2020-06-01', '2020-06-30', 'my power went out')\n",
    "time.sleep(100)\n",
    "jul_fin_tweets_mpwo =  DownloadTweets('2020-07-01', '2020-07-31', 'my power went out')\n",
    "time.sleep(100)\n",
    "aug_fin_tweets_mpwo =  DownloadTweets('2020-08-01', '2020-08-31', 'my power went out')\n",
    "time.sleep(100)\n",
    "\n",
    "# I lost power\n",
    "jan_fin_tweets_ilp =  DownloadTweets('2020-01-01', '2020-01-31', 'i lost power')\n",
    "time.sleep(100)\n",
    "feb_fin_tweets_ilp =  DownloadTweets('2020-02-01', '2020-02-29', 'i lost power')\n",
    "time.sleep(100)\n",
    "mar_fin_tweets_ilp =  DownloadTweets('2020-03-01', '2020-03-31', 'i lost power')\n",
    "time.sleep(100)\n",
    "apr_fin_tweets_ilp =  DownloadTweets('2020-04-01', '2020-04-30', 'i lost power')\n",
    "time.sleep(100)\n",
    "may_fin_tweets_ilp =  DownloadTweets('2020-05-01', '2020-05-31', 'i lost power')\n",
    "time.sleep(100)\n",
    "jun_fin_tweets_ilp =  DownloadTweets('2020-06-01', '2020-06-30', 'i lost power')\n",
    "time.sleep(100)\n",
    "jul_fin_tweets_ilp =  DownloadTweets('2020-07-01', '2020-07-31', 'i lost power')\n",
    "time.sleep(100)\n",
    "aug_fin_tweets_ilp =  DownloadTweets('2020-08-01', '2020-08-31', 'i lost power')\n",
    "tim.sleep(100)\n",
    "\n",
    "# There is a power outage\n",
    "jan_fin_tweets_tpo =  DownloadTweets('2020-01-01', '2020-01-31', 'there is a power outage')\n",
    "time.sleep(100)\n",
    "feb_fin_tweets_tpo =  DownloadTweets('2020-02-01', '2020-02-29', 'there is a power outage')\n",
    "time.sleep(100)\n",
    "mar_fin_tweets_tpo =  DownloadTweets('2020-03-01', '2020-03-31', 'there is a power outage')\n",
    "time.sleep(100)\n",
    "apr_fin_tweets_tpo =  DownloadTweets('2020-04-01', '2020-04-30', 'there is a power outage')\n",
    "time.sleep(100)\n",
    "may_fin_tweets_tpo =  DownloadTweets('2020-05-01', '2020-05-31', 'there is a power outage')\n",
    "time.sleep(100)\n",
    "jun_fin_tweets_tpo =  DownloadTweets('2020-06-01', '2020-06-30', 'there is a power outage')\n",
    "time.sleep(100)\n",
    "jul_fin_tweets_tpo =  DownloadTweets('2020-07-01', '2020-07-31', 'there is a power outage')\n",
    "time.sleep(100)\n",
    "aug_fin_tweets_tpo =  DownloadTweets('2020-08-01', '2020-08-31', 'there is a power outage')\n",
    "time.sleep(100)\n",
    "\n",
    "# I have no power\n",
    "jan_fin_tweets_ihnp =  DownloadTweets('2020-01-01', '2020-01-31', 'I have no power')\n",
    "time.sleep(100)\n",
    "feb_fin_tweets_ihnp =  DownloadTweets('2020-02-01', '2020-02-29', 'I have no power')\n",
    "time.sleep(100)\n",
    "mar_fin_tweets_ihnp =  DownloadTweets('2020-03-01', '2020-03-31', 'I have no power')\n",
    "time.sleep(100)\n",
    "apr_fin_tweets_ihnp =  DownloadTweets('2020-04-01', '2020-04-30', 'I have no power')\n",
    "time.sleep(100)\n",
    "may_fin_tweets_ihnp =  DownloadTweets('2020-05-01', '2020-05-31', 'I have no power')\n",
    "time.sleep(100)\n",
    "jun_fin_tweets_ihnp =  DownloadTweets('2020-06-01', '2020-06-30', 'I have no power')\n",
    "time.sleep(100)\n",
    "jul_fin_tweets_ihnp =  DownloadTweets('2020-07-01', '2020-07-31', 'I have no power')\n",
    "time.sleep(100)\n",
    "aug_fin_tweets_ihnp =  DownloadTweets('2020-08-01', '2020-08-31', 'I have no power')"
   ]
  },
  {
   "cell_type": "markdown",
   "metadata": {},
   "source": [
    "## **Make Combined DataFrames**"
   ]
  },
  {
   "cell_type": "code",
   "execution_count": null,
   "metadata": {},
   "outputs": [],
   "source": [
    "mpwo_final_df = jan_fin_tweets_mpwo.append([feb_fin_tweets_mpwo, mar_fin_tweets_mpwo, apr_fin_tweets_mpwo, \n",
    "                                            may_fin_tweets_mpwo, jun_fin_tweets_mpwo, jul_fin_tweets_mpwo, aug_fin_tweets_mpwo])"
   ]
  },
  {
   "cell_type": "code",
   "execution_count": null,
   "metadata": {},
   "outputs": [],
   "source": [
    "ilp_final_df = jan_fin_tweets_ilp.append([feb_fin_tweets_ilp, mar_fin_tweets_ilp, apr_fin_tweets_ilp, \n",
    "                                            may_fin_tweets_ilp, jun_fin_tweets_ilp, jul_fin_tweets_ilp, aug_fin_tweets_ilp])"
   ]
  },
  {
   "cell_type": "code",
   "execution_count": null,
   "metadata": {},
   "outputs": [],
   "source": [
    "tpo_final_df = jan_fin_tweets_tpo.append([feb_fin_tweets_tpo, mar_fin_tweets_tpo, apr_fin_tweets_tpo, \n",
    "                                            may_fin_tweets_tpo, jun_fin_tweets_tpo, jul_fin_tweets_tpo, aug_fin_tweets_tpo])"
   ]
  },
  {
   "cell_type": "code",
   "execution_count": null,
   "metadata": {},
   "outputs": [],
   "source": [
    "ihnp_final_df = jan_fin_tweets_ihnp.append([feb_fin_tweets_ihnp, mar_fin_tweets_ihnp, apr_fin_tweets_ihnp, \n",
    "                                            may_fin_tweets_ihnp, jun_fin_tweets_ihnp, jul_fin_tweets_ihnp, aug_fin_tweets_ihnp])"
   ]
  },
  {
   "cell_type": "code",
   "execution_count": null,
   "metadata": {},
   "outputs": [],
   "source": [
    "print(mpwo_final_df.shape)\n",
    "print(ilp_final_df.shape)\n",
    "print(tpo_final_df.shape)\n",
    "print(ihnp_final_df.shape)"
   ]
  },
  {
   "cell_type": "markdown",
   "metadata": {},
   "source": [
    "## **Final DataFrame**"
   ]
  },
  {
   "cell_type": "code",
   "execution_count": null,
   "metadata": {},
   "outputs": [],
   "source": [
    "ready_for_processing = mpwo_final_df.append([ilp_final_df,\n",
    "                                             tpo_final_df, # This one will be nathans\n",
    "                                             ihnp_final_df])"
   ]
  },
  {
   "cell_type": "code",
   "execution_count": null,
   "metadata": {},
   "outputs": [],
   "source": [
    "print(ready_for_processing.shape)"
   ]
  },
  {
   "cell_type": "code",
   "execution_count": null,
   "metadata": {},
   "outputs": [],
   "source": [
    "ready_for_processing.to_csv('./data/ready_for_processing.csv', index=False)"
   ]
  },
  {
   "cell_type": "markdown",
   "metadata": {},
   "source": [
    "## **Adding Random Tweets**"
   ]
  },
  {
   "cell_type": "code",
   "execution_count": null,
   "metadata": {},
   "outputs": [],
   "source": [
    "# We went out shopping\n",
    "jan_fin_tweets_wwos =  DownloadTweets('2020-03-01', '2020-03-31', 'we went out shopping')\n",
    "time.sleep(100)\n",
    "feb_fin_tweets_wwos =  DownloadTweets('2020-02-01', '2020-02-29', 'we went out shopping')\n",
    "time.sleep(100)\n",
    "mar_fin_tweets_wwos =  DownloadTweets('2020-03-01', '2020-03-31', 'we went out shopping')\n",
    "time.sleep(100)\n",
    "apr_fin_tweets_wwos =  DownloadTweets('2020-04-01', '2020-04-30', 'we went out shopping')\n",
    "time.sleep(100)\n",
    "may_fin_tweets_wwos =  DownloadTweets('2020-05-01', '2020-05-31', 'we went out shopping')\n",
    "time.sleep(100)\n",
    "jun_fin_tweets_wwos =  DownloadTweets('2020-06-01', '2020-06-30', 'we went out shopping')\n",
    "time.sleep(100)\n",
    "jul_fin_tweets_wwos =  DownloadTweets('2020-07-01', '2020-07-31', 'we went out shopping')\n",
    "time.sleep(100)\n",
    "aug_fin_tweets_wwos =  DownloadTweets('2020-08-01', '2020-08-31', 'we went out shopping')\n",
    "time.sleep(100)\n",
    "\n",
    "# The weather is nice\n",
    "jan_tweets_twin =  DownloadTweets('2020-01-01', '2020-01-31', 'The weather is nice') \n",
    "time.sleep(100)\n",
    "feb_tweets_twin =  DownloadTweets('2020-02-01', '2020-02-29', 'The weather is nice')   \n",
    "time.sleep(100)\n",
    "mar_tweets_twin =  DownloadTweets('2020-03-01', '2020-03-31', 'The weather is nice')  \n",
    "time.sleep(100)\n",
    "apr_tweets_twin =  DownloadTweets('2020-04-01', '2020-04-30', 'The weather is nice')  \n",
    "time.sleep(100)\n",
    "may_tweets_twin =  DownloadTweets('2020-05-01', '2020-05-31', 'The weather is nice')  \n",
    "time.sleep(100)\n",
    "jun_tweets_twin =  DownloadTweets('2020-06-01', '2020-06-30', 'The weather is nice')  \n",
    "time.sleep(100)\n",
    "jul_tweets_twin =  DownloadTweets('2020-07-01', '2020-07-31', 'The weather is nice')  \n",
    "time.sleep(100)\n",
    "aug_tweets_twin =  DownloadTweets('2020-08-01', '2020-08-31', 'The weather is nice') "
   ]
  },
  {
   "cell_type": "code",
   "execution_count": null,
   "metadata": {},
   "outputs": [],
   "source": [
    "bad_words = jan_fin_tweets_wwos.append([feb_fin_tweets_wwos, mar_fin_tweets_wwos, apr_fin_tweets_wwos, may_fin_tweets_wwos,\n",
    "                                       jun_fin_tweets_wwos, jul_fin_tweets_wwos, aug_fin_tweets_wwos])"
   ]
  },
  {
   "cell_type": "code",
   "execution_count": null,
   "metadata": {},
   "outputs": [],
   "source": [
    "# These will all be labeled with 0\n",
    "bad_words.to_csv(\"./data/bad_words1.csv\", index=False)"
   ]
  },
  {
   "cell_type": "code",
   "execution_count": null,
   "metadata": {},
   "outputs": [],
   "source": [
    "bad_words2 = jan_tweets_twin.append([feb_tweets_twin, mar_tweets_twin, apr_tweets_twin, may_tweets_twin,\n",
    "                                       jun_tweets_twin, jul_tweets_twin, aug_tweets_twin])"
   ]
  },
  {
   "cell_type": "code",
   "execution_count": null,
   "metadata": {},
   "outputs": [],
   "source": [
    "# These will all be labeled with 0\n",
    "bad_words2.to_csv(\"./data/bad_words2.csv\", index=False)"
   ]
  },
  {
   "cell_type": "code",
   "execution_count": null,
   "metadata": {},
   "outputs": [],
   "source": []
  }
 ],
 "metadata": {
  "kernelspec": {
   "display_name": "Python 3",
   "language": "python",
   "name": "python3"
  },
  "language_info": {
   "codemirror_mode": {
    "name": "ipython",
    "version": 3
   },
   "file_extension": ".py",
   "mimetype": "text/x-python",
   "name": "python",
   "nbconvert_exporter": "python",
   "pygments_lexer": "ipython3",
   "version": "3.8.3"
  }
 },
 "nbformat": 4,
 "nbformat_minor": 4
}
