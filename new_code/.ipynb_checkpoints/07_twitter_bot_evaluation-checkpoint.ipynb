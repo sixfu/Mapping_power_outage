{
 "cells": [
  {
   "cell_type": "markdown",
   "metadata": {
    "execution": {
     "iopub.execute_input": "2020-09-17T18:20:57.991011Z",
     "iopub.status.busy": "2020-09-17T18:20:57.990790Z",
     "iopub.status.idle": "2020-09-17T18:20:57.994922Z",
     "shell.execute_reply": "2020-09-17T18:20:57.994212Z",
     "shell.execute_reply.started": "2020-09-17T18:20:57.990980Z"
    }
   },
   "source": [
    "## **Notebook Contents**\n",
    "- Import Libraries\n",
    "- Import Dataframes\n",
    "- Uniform Labeling\n",
    "- Model Evaluation Metrics\n"
   ]
  },
  {
   "cell_type": "markdown",
   "metadata": {},
   "source": [
    "## **Import Libraries**"
   ]
  },
  {
   "cell_type": "code",
   "execution_count": 1,
   "metadata": {
    "execution": {
     "iopub.status.idle": "2020-09-17T16:19:51.030247Z",
     "shell.execute_reply": "2020-09-17T16:19:51.029810Z",
     "shell.execute_reply.started": "2020-09-17T16:19:50.902685Z"
    }
   },
   "outputs": [],
   "source": [
    "# Imports\n",
    "import numpy as np\n",
    "import pandas as pd"
   ]
  },
  {
   "cell_type": "markdown",
   "metadata": {},
   "source": [
    "## **Import Dataframe**"
   ]
  },
  {
   "cell_type": "code",
   "execution_count": 2,
   "metadata": {
    "execution": {
     "iopub.execute_input": "2020-09-17T16:19:51.030962Z",
     "iopub.status.busy": "2020-09-17T16:19:51.030865Z",
     "iopub.status.idle": "2020-09-17T16:19:51.036533Z",
     "shell.execute_reply": "2020-09-17T16:19:51.036163Z",
     "shell.execute_reply.started": "2020-09-17T16:19:51.030950Z"
    }
   },
   "outputs": [],
   "source": [
    "# On new Tweets from pred_verify.csv\n",
    "data = pd.read_csv('../data/pred_verify.csv')"
   ]
  },
  {
   "cell_type": "code",
   "execution_count": 3,
   "metadata": {
    "execution": {
     "iopub.execute_input": "2020-09-17T16:19:51.038310Z",
     "iopub.status.busy": "2020-09-17T16:19:51.038228Z",
     "iopub.status.idle": "2020-09-17T16:19:51.053075Z",
     "shell.execute_reply": "2020-09-17T16:19:51.052722Z",
     "shell.execute_reply.started": "2020-09-17T16:19:51.038299Z"
    }
   },
   "outputs": [
    {
     "data": {
      "text/html": [
       "<div>\n",
       "<style scoped>\n",
       "    .dataframe tbody tr th:only-of-type {\n",
       "        vertical-align: middle;\n",
       "    }\n",
       "\n",
       "    .dataframe tbody tr th {\n",
       "        vertical-align: top;\n",
       "    }\n",
       "\n",
       "    .dataframe thead th {\n",
       "        text-align: right;\n",
       "    }\n",
       "</style>\n",
       "<table border=\"1\" class=\"dataframe\">\n",
       "  <thead>\n",
       "    <tr style=\"text-align: right;\">\n",
       "      <th></th>\n",
       "      <th>user</th>\n",
       "      <th>is_retweet</th>\n",
       "      <th>tweet</th>\n",
       "      <th>location</th>\n",
       "      <th>state</th>\n",
       "      <th>state_1</th>\n",
       "      <th>predict_lr</th>\n",
       "      <th>predict_nb</th>\n",
       "      <th>predict_rnn</th>\n",
       "      <th>predict_rf</th>\n",
       "      <th>labels</th>\n",
       "      <th>verify_labels</th>\n",
       "      <th>correct_preds</th>\n",
       "      <th>predict_lr.1</th>\n",
       "      <th>predict_nb.1</th>\n",
       "      <th>rnn_and_labels is 1</th>\n",
       "      <th>predict_rf.1</th>\n",
       "      <th>extra</th>\n",
       "      <th>wo_rf</th>\n",
       "    </tr>\n",
       "  </thead>\n",
       "  <tbody>\n",
       "    <tr>\n",
       "      <th>0</th>\n",
       "      <td>eafreem</td>\n",
       "      <td>False</td>\n",
       "      <td>i have no institutional power to be clear but ...</td>\n",
       "      <td>she/her</td>\n",
       "      <td>NaN</td>\n",
       "      <td>NaN</td>\n",
       "      <td>1.0</td>\n",
       "      <td>1.0</td>\n",
       "      <td>1.0</td>\n",
       "      <td>0.933333</td>\n",
       "      <td>1.0</td>\n",
       "      <td>0.0</td>\n",
       "      <td>0.0</td>\n",
       "      <td>0.0</td>\n",
       "      <td>0.0</td>\n",
       "      <td>0.0</td>\n",
       "      <td>0.0</td>\n",
       "      <td>1.0</td>\n",
       "      <td>0.0</td>\n",
       "    </tr>\n",
       "    <tr>\n",
       "      <th>1</th>\n",
       "      <td>ButtaeflyTear</td>\n",
       "      <td>False</td>\n",
       "      <td>kthivz yeshctrl no way i have the power of bor...</td>\n",
       "      <td>None</td>\n",
       "      <td>NaN</td>\n",
       "      <td>NaN</td>\n",
       "      <td>0.0</td>\n",
       "      <td>0.0</td>\n",
       "      <td>1.0</td>\n",
       "      <td>0.000000</td>\n",
       "      <td>0.0</td>\n",
       "      <td>0.0</td>\n",
       "      <td>1.0</td>\n",
       "      <td>1.0</td>\n",
       "      <td>1.0</td>\n",
       "      <td>0.0</td>\n",
       "      <td>1.0</td>\n",
       "      <td>0.0</td>\n",
       "      <td>1.0</td>\n",
       "    </tr>\n",
       "    <tr>\n",
       "      <th>2</th>\n",
       "      <td>Guillermohno</td>\n",
       "      <td>False</td>\n",
       "      <td>i just think its funny how tyler thecreator ne...</td>\n",
       "      <td>San Antonio</td>\n",
       "      <td>TX</td>\n",
       "      <td>NaN</td>\n",
       "      <td>1.0</td>\n",
       "      <td>1.0</td>\n",
       "      <td>1.0</td>\n",
       "      <td>0.700000</td>\n",
       "      <td>1.0</td>\n",
       "      <td>0.0</td>\n",
       "      <td>0.0</td>\n",
       "      <td>0.0</td>\n",
       "      <td>0.0</td>\n",
       "      <td>0.0</td>\n",
       "      <td>0.0</td>\n",
       "      <td>1.0</td>\n",
       "      <td>0.0</td>\n",
       "    </tr>\n",
       "    <tr>\n",
       "      <th>3</th>\n",
       "      <td>js100radio</td>\n",
       "      <td>False</td>\n",
       "      <td>online gt gt https t co mixlrwax mea smart lif...</td>\n",
       "      <td>Bangkok</td>\n",
       "      <td>NaN</td>\n",
       "      <td>NaN</td>\n",
       "      <td>0.0</td>\n",
       "      <td>0.0</td>\n",
       "      <td>1.0</td>\n",
       "      <td>0.796746</td>\n",
       "      <td>0.0</td>\n",
       "      <td>0.0</td>\n",
       "      <td>1.0</td>\n",
       "      <td>1.0</td>\n",
       "      <td>1.0</td>\n",
       "      <td>0.0</td>\n",
       "      <td>0.0</td>\n",
       "      <td>0.0</td>\n",
       "      <td>1.0</td>\n",
       "    </tr>\n",
       "    <tr>\n",
       "      <th>4</th>\n",
       "      <td>KeysEnergy</td>\n",
       "      <td>False</td>\n",
       "      <td>approximately customers remain without power i...</td>\n",
       "      <td>Key West</td>\n",
       "      <td>FL</td>\n",
       "      <td>NaN</td>\n",
       "      <td>1.0</td>\n",
       "      <td>1.0</td>\n",
       "      <td>0.0</td>\n",
       "      <td>0.966667</td>\n",
       "      <td>0.0</td>\n",
       "      <td>0.0</td>\n",
       "      <td>1.0</td>\n",
       "      <td>0.0</td>\n",
       "      <td>0.0</td>\n",
       "      <td>1.0</td>\n",
       "      <td>0.0</td>\n",
       "      <td>0.0</td>\n",
       "      <td>1.0</td>\n",
       "    </tr>\n",
       "  </tbody>\n",
       "</table>\n",
       "</div>"
      ],
      "text/plain": [
       "            user is_retweet  \\\n",
       "0        eafreem      False   \n",
       "1  ButtaeflyTear      False   \n",
       "2   Guillermohno      False   \n",
       "3     js100radio      False   \n",
       "4     KeysEnergy      False   \n",
       "\n",
       "                                               tweet     location state  \\\n",
       "0  i have no institutional power to be clear but ...      she/her   NaN   \n",
       "1  kthivz yeshctrl no way i have the power of bor...         None   NaN   \n",
       "2  i just think its funny how tyler thecreator ne...  San Antonio    TX   \n",
       "3  online gt gt https t co mixlrwax mea smart lif...      Bangkok   NaN   \n",
       "4  approximately customers remain without power i...     Key West    FL   \n",
       "\n",
       "  state_1  predict_lr  predict_nb  predict_rnn  predict_rf  labels  \\\n",
       "0     NaN         1.0         1.0          1.0    0.933333     1.0   \n",
       "1     NaN         0.0         0.0          1.0    0.000000     0.0   \n",
       "2     NaN         1.0         1.0          1.0    0.700000     1.0   \n",
       "3     NaN         0.0         0.0          1.0    0.796746     0.0   \n",
       "4     NaN         1.0         1.0          0.0    0.966667     0.0   \n",
       "\n",
       "   verify_labels  correct_preds  predict_lr.1  predict_nb.1  \\\n",
       "0            0.0            0.0           0.0           0.0   \n",
       "1            0.0            1.0           1.0           1.0   \n",
       "2            0.0            0.0           0.0           0.0   \n",
       "3            0.0            1.0           1.0           1.0   \n",
       "4            0.0            1.0           0.0           0.0   \n",
       "\n",
       "   rnn_and_labels is 1  predict_rf.1  extra  wo_rf  \n",
       "0                  0.0           0.0    1.0    0.0  \n",
       "1                  0.0           1.0    0.0    1.0  \n",
       "2                  0.0           0.0    1.0    0.0  \n",
       "3                  0.0           0.0    0.0    1.0  \n",
       "4                  1.0           0.0    0.0    1.0  "
      ]
     },
     "execution_count": 3,
     "metadata": {},
     "output_type": "execute_result"
    }
   ],
   "source": [
    "data.head()"
   ]
  },
  {
   "cell_type": "markdown",
   "metadata": {},
   "source": [
    "## **Uniform Labeling**"
   ]
  },
  {
   "cell_type": "code",
   "execution_count": 4,
   "metadata": {
    "execution": {
     "iopub.execute_input": "2020-09-17T16:19:51.053686Z",
     "iopub.status.busy": "2020-09-17T16:19:51.053598Z",
     "iopub.status.idle": "2020-09-17T16:19:51.056359Z",
     "shell.execute_reply": "2020-09-17T16:19:51.055997Z",
     "shell.execute_reply.started": "2020-09-17T16:19:51.053674Z"
    }
   },
   "outputs": [],
   "source": [
    "# Change random forest floats into 0's and 1's\n",
    "ones_zeroes = []\n",
    "for row in data['predict_rf']:\n",
    "    if row > .50:\n",
    "        ones_zeroes.append(1)\n",
    "    else:\n",
    "        ones_zeroes.append(0)\n",
    "\n",
    "data['rf_10'] = ones_zeroes"
   ]
  },
  {
   "cell_type": "markdown",
   "metadata": {},
   "source": [
    "## **Model Evaluation Metrics**"
   ]
  },
  {
   "cell_type": "code",
   "execution_count": 5,
   "metadata": {
    "execution": {
     "iopub.execute_input": "2020-09-17T16:19:51.056871Z",
     "iopub.status.busy": "2020-09-17T16:19:51.056785Z",
     "iopub.status.idle": "2020-09-17T16:19:51.061078Z",
     "shell.execute_reply": "2020-09-17T16:19:51.060717Z",
     "shell.execute_reply.started": "2020-09-17T16:19:51.056860Z"
    }
   },
   "outputs": [],
   "source": [
    "def acc(df, col):\n",
    "    # Verified labels & labeled by script\n",
    "    TP = []\n",
    "    FP = []\n",
    "    FN = []\n",
    "    TN = []\n",
    "    for index, row in df.iterrows():\n",
    "        if row[col] and row['verify_labels'] == 1.0:\n",
    "            TP.append(1)\n",
    "        elif row[col] == 1.0 and row['verify_labels'] == 0.0:\n",
    "            FP.append(1)\n",
    "        elif row[col] == 0.0 and row['verify_labels'] == 1.0:\n",
    "            FN.append(1)\n",
    "        else:\n",
    "            TN.append(1)\n",
    "            \n",
    "    TP = np.sum(TP)\n",
    "    FP = np.sum(FP)\n",
    "    FN = np.sum(FN)\n",
    "    TN = np.sum(TN)\n",
    "        \n",
    "    # Accuracy:  # What percentage of observation did I correctly predict?\n",
    "    print(f\"The Accuracy score is: {round((TP + TN) / (TP + TN + FP + FN), 4) * 100}%\")\n",
    "    # Misclassification: # What percentage of observation did I incorrectly predict?\n",
    "    print(f\"The Missclassification rate is: {round((FP + FN) / (TP + TN + FP + FN), 3) * 100}%\")\n",
    "    # Sensitivity:  # Among Positives, how many did I get correctly? Same as recall\n",
    "    print(f\"The Sensitivity is: {round(TP / (TP + FN), 4) * 100}%\")\n",
    "    # Specificity:  # Among Negatives, how many did I get correctly?\n",
    "    print(f\"The Specificity is: {round(TN / (TN + FP), 4) * 100}%\")\n",
    "    # Precision: # Among Positives, how many did i Predict correct\n",
    "    print(f\"The Precision is {round(TP / (TP + FP), 4) * 100}%\")\n",
    "\n",
    "   \n",
    "    return np.sum(TP), np.sum(FP), np.sum(FN), np.sum(TN)"
   ]
  },
  {
   "cell_type": "code",
   "execution_count": 6,
   "metadata": {
    "execution": {
     "iopub.execute_input": "2020-09-17T16:19:51.061602Z",
     "iopub.status.busy": "2020-09-17T16:19:51.061514Z",
     "iopub.status.idle": "2020-09-17T16:19:51.078242Z",
     "shell.execute_reply": "2020-09-17T16:19:51.077883Z",
     "shell.execute_reply.started": "2020-09-17T16:19:51.061591Z"
    }
   },
   "outputs": [
    {
     "name": "stdout",
     "output_type": "stream",
     "text": [
      "The Accuracy score is: 58.26%\n",
      "The Missclassification rate is: 41.699999999999996%\n",
      "The Sensitivity is: 90.10000000000001%\n",
      "The Specificity is: 33.33%\n",
      "The Precision is 51.41%\n"
     ]
    },
    {
     "data": {
      "text/plain": [
       "(91, 86, 10, 43)"
      ]
     },
     "execution_count": 6,
     "metadata": {},
     "output_type": "execute_result"
    }
   ],
   "source": [
    "# Logistic Regression\n",
    "acc(data, 'predict_lr')"
   ]
  },
  {
   "cell_type": "code",
   "execution_count": 7,
   "metadata": {
    "execution": {
     "iopub.execute_input": "2020-09-17T16:19:51.078746Z",
     "iopub.status.busy": "2020-09-17T16:19:51.078659Z",
     "iopub.status.idle": "2020-09-17T16:19:51.094829Z",
     "shell.execute_reply": "2020-09-17T16:19:51.094347Z",
     "shell.execute_reply.started": "2020-09-17T16:19:51.078734Z"
    }
   },
   "outputs": [
    {
     "name": "stdout",
     "output_type": "stream",
     "text": [
      "The Accuracy score is: 59.57%\n",
      "The Missclassification rate is: 40.400000000000006%\n",
      "The Sensitivity is: 92.08%\n",
      "The Specificity is: 34.11%\n",
      "The Precision is 52.25%\n"
     ]
    },
    {
     "data": {
      "text/plain": [
       "(93, 85, 8, 44)"
      ]
     },
     "execution_count": 7,
     "metadata": {},
     "output_type": "execute_result"
    }
   ],
   "source": [
    "# Multinominal Naive Bayes\n",
    "acc(data, 'predict_nb')"
   ]
  },
  {
   "cell_type": "code",
   "execution_count": 8,
   "metadata": {
    "execution": {
     "iopub.execute_input": "2020-09-17T16:19:51.096255Z",
     "iopub.status.busy": "2020-09-17T16:19:51.096092Z",
     "iopub.status.idle": "2020-09-17T16:19:51.115166Z",
     "shell.execute_reply": "2020-09-17T16:19:51.114809Z",
     "shell.execute_reply.started": "2020-09-17T16:19:51.096234Z"
    }
   },
   "outputs": [
    {
     "name": "stdout",
     "output_type": "stream",
     "text": [
      "The Accuracy score is: 55.65%\n",
      "The Missclassification rate is: 44.3%\n",
      "The Sensitivity is: 65.35%\n",
      "The Specificity is: 48.06%\n",
      "The Precision is 49.62%\n"
     ]
    },
    {
     "data": {
      "text/plain": [
       "(66, 67, 35, 62)"
      ]
     },
     "execution_count": 8,
     "metadata": {},
     "output_type": "execute_result"
    }
   ],
   "source": [
    "# LSTM RNN\n",
    "acc(data, 'predict_rnn')"
   ]
  },
  {
   "cell_type": "code",
   "execution_count": 9,
   "metadata": {
    "execution": {
     "iopub.execute_input": "2020-09-17T16:19:51.115839Z",
     "iopub.status.busy": "2020-09-17T16:19:51.115754Z",
     "iopub.status.idle": "2020-09-17T16:19:51.131668Z",
     "shell.execute_reply": "2020-09-17T16:19:51.131160Z",
     "shell.execute_reply.started": "2020-09-17T16:19:51.115827Z"
    }
   },
   "outputs": [
    {
     "name": "stdout",
     "output_type": "stream",
     "text": [
      "The Accuracy score is: 55.65%\n",
      "The Missclassification rate is: 44.3%\n",
      "The Sensitivity is: 91.09%\n",
      "The Specificity is: 27.91%\n",
      "The Precision is 49.730000000000004%\n"
     ]
    },
    {
     "data": {
      "text/plain": [
       "(92, 93, 9, 36)"
      ]
     },
     "execution_count": 9,
     "metadata": {},
     "output_type": "execute_result"
    }
   ],
   "source": [
    "# Random Forest\n",
    "acc(data, 'rf_10')"
   ]
  },
  {
   "cell_type": "code",
   "execution_count": 10,
   "metadata": {
    "execution": {
     "iopub.execute_input": "2020-09-17T16:19:51.132171Z",
     "iopub.status.busy": "2020-09-17T16:19:51.132088Z",
     "iopub.status.idle": "2020-09-17T16:19:51.148078Z",
     "shell.execute_reply": "2020-09-17T16:19:51.147699Z",
     "shell.execute_reply.started": "2020-09-17T16:19:51.132160Z"
    }
   },
   "outputs": [
    {
     "name": "stdout",
     "output_type": "stream",
     "text": [
      "The Accuracy score is: 63.91%\n",
      "The Missclassification rate is: 36.1%\n",
      "The Sensitivity is: 57.43000000000001%\n",
      "The Specificity is: 68.99%\n",
      "The Precision is 59.18%\n"
     ]
    },
    {
     "data": {
      "text/plain": [
       "(58, 40, 43, 89)"
      ]
     },
     "execution_count": 10,
     "metadata": {},
     "output_type": "execute_result"
    }
   ],
   "source": [
    "# Multi-Layered Model\n",
    "acc(data, 'labels')"
   ]
  }
 ],
 "metadata": {
  "kernelspec": {
   "display_name": "Python 3",
   "language": "python",
   "name": "python3"
  },
  "language_info": {
   "codemirror_mode": {
    "name": "ipython",
    "version": 3
   },
   "file_extension": ".py",
   "mimetype": "text/x-python",
   "name": "python",
   "nbconvert_exporter": "python",
   "pygments_lexer": "ipython3",
   "version": "3.8.3"
  }
 },
 "nbformat": 4,
 "nbformat_minor": 4
}
