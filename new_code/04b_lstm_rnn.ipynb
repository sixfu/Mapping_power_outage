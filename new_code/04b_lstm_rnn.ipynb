{
 "cells": [
  {
   "cell_type": "markdown",
   "metadata": {},
   "source": [
    "## **Notebook Contents**\n",
    "- Import Libraries\n",
    "- Import Dataframes\n",
    "- Word Cleaning\n",
    "- Preprocess Data\n",
    "- Modeling\n",
    "- Scores\n",
    "- Citations"
   ]
  },
  {
   "cell_type": "markdown",
   "metadata": {
    "colab_type": "text",
    "id": "Y61hV9EuugUs"
   },
   "source": [
    "<a name=\"importlibrarieml\"></a>\n",
    "## **Import Libraries**"
   ]
  },
  {
   "cell_type": "code",
   "execution_count": 1,
   "metadata": {
    "colab": {
     "base_uri": "https://localhost:8080/",
     "height": 105
    },
    "colab_type": "code",
    "execution": {
     "iopub.execute_input": "2020-09-12T02:06:26.750683Z",
     "iopub.status.busy": "2020-09-12T02:06:26.750467Z",
     "iopub.status.idle": "2020-09-12T02:06:28.359757Z",
     "shell.execute_reply": "2020-09-12T02:06:28.359313Z",
     "shell.execute_reply.started": "2020-09-12T02:06:26.750655Z"
    },
    "id": "hbvDp-1JnZPu",
    "outputId": "1b674762-241e-4141-b3f4-e3b7156ee5a2"
   },
   "outputs": [
    {
     "name": "stderr",
     "output_type": "stream",
     "text": [
      "[nltk_data] Downloading package stopwords to /home/dlee/nltk_data...\n",
      "[nltk_data]   Package stopwords is already up-to-date!\n"
     ]
    }
   ],
   "source": [
    "# Standard Imports\n",
    "import numpy as np \n",
    "import pandas as pd\n",
    "import matplotlib.pyplot as plt\n",
    "import seaborn as sns\n",
    "from sklearn.model_selection import train_test_split, cross_val_score\n",
    "\n",
    "# NLP Imports\n",
    "import re\n",
    "import nltk\n",
    "nltk.download(\"stopwords\")\n",
    "from nltk.corpus import stopwords\n",
    "from nltk import word_tokenize\n",
    "STOPWORDS = set(stopwords.words('english'))\n",
    "\n",
    "# Keras Imports\n",
    "from keras.preprocessing.text import Tokenizer\n",
    "from keras.preprocessing.sequence import pad_sequences\n",
    "from keras.models import Sequential\n",
    "from keras.layers import Dense, Embedding, LSTM, SpatialDropout1D\n",
    "from sklearn.model_selection import train_test_split\n",
    "from keras.utils.np_utils import to_categorical\n",
    "from keras.callbacks import EarlyStopping\n",
    "from keras.layers import Dropout\n",
    "import tensorflow as tf\n",
    "from tensorflow import keras\n",
    "# Credit to https://towardsdatascience.com/multi-class-text-classification-with-lstm-1590bee1bd17 for main inspiration and code"
   ]
  },
  {
   "cell_type": "markdown",
   "metadata": {
    "colab_type": "text",
    "id": "c4Gms4rgu--4"
   },
   "source": [
    "<a name=\"importdataframeml\"></a>\n",
    "## **Import Dataframes**\n"
   ]
  },
  {
   "cell_type": "code",
   "execution_count": 4,
   "metadata": {
    "colab": {},
    "colab_type": "code",
    "execution": {
     "iopub.execute_input": "2020-09-12T02:07:51.499425Z",
     "iopub.status.busy": "2020-09-12T02:07:51.499169Z",
     "iopub.status.idle": "2020-09-12T02:07:52.023687Z",
     "shell.execute_reply": "2020-09-12T02:07:52.023224Z",
     "shell.execute_reply.started": "2020-09-12T02:07:51.499389Z"
    },
    "id": "4NeHA40ineh0"
   },
   "outputs": [],
   "source": [
    "df = pd.read_csv('../data/ready_for_modeling.csv')"
   ]
  },
  {
   "cell_type": "code",
   "execution_count": 5,
   "metadata": {
    "colab": {},
    "colab_type": "code",
    "execution": {
     "iopub.execute_input": "2020-09-12T02:07:54.071597Z",
     "iopub.status.busy": "2020-09-12T02:07:54.071349Z",
     "iopub.status.idle": "2020-09-12T02:07:54.090940Z",
     "shell.execute_reply": "2020-09-12T02:07:54.090497Z",
     "shell.execute_reply.started": "2020-09-12T02:07:54.071573Z"
    },
    "id": "a1WWRoy6nnZb"
   },
   "outputs": [],
   "source": [
    "zeroes = df[df['label'] == 0]"
   ]
  },
  {
   "cell_type": "code",
   "execution_count": 6,
   "metadata": {
    "colab": {
     "base_uri": "https://localhost:8080/",
     "height": 35
    },
    "colab_type": "code",
    "execution": {
     "iopub.execute_input": "2020-09-12T02:07:56.485756Z",
     "iopub.status.busy": "2020-09-12T02:07:56.485530Z",
     "iopub.status.idle": "2020-09-12T02:07:56.493049Z",
     "shell.execute_reply": "2020-09-12T02:07:56.492630Z",
     "shell.execute_reply.started": "2020-09-12T02:07:56.485732Z"
    },
    "id": "ZkFbxsC3NEqQ",
    "outputId": "8341bb6c-723c-4bcd-ab27-16943139316b"
   },
   "outputs": [
    {
     "data": {
      "text/plain": [
       "'guys the power just went out there goes the of fortnite that was downloading my playstation '"
      ]
     },
     "execution_count": 6,
     "metadata": {},
     "output_type": "execute_result"
    }
   ],
   "source": [
    "zeroes['tweet'][1323]"
   ]
  },
  {
   "cell_type": "code",
   "execution_count": 7,
   "metadata": {
    "colab": {
     "base_uri": "https://localhost:8080/",
     "height": 69
    },
    "colab_type": "code",
    "execution": {
     "iopub.execute_input": "2020-09-12T02:07:57.716284Z",
     "iopub.status.busy": "2020-09-12T02:07:57.716053Z",
     "iopub.status.idle": "2020-09-12T02:07:57.719578Z",
     "shell.execute_reply": "2020-09-12T02:07:57.719163Z",
     "shell.execute_reply.started": "2020-09-12T02:07:57.716259Z"
    },
    "id": "mOOO-TF0PNji",
    "outputId": "b018187e-4ac9-43a6-f0e9-019d61f0b3a7"
   },
   "outputs": [
    {
     "data": {
      "text/plain": [
       "'im about the same age as you texasdom and can confirm my mom never went out without being dressed coifed and madeup a very feminine very powerful woman she knew how to wield the power of her femininity when women abandoned femininity they abandoned their power '"
      ]
     },
     "execution_count": 7,
     "metadata": {},
     "output_type": "execute_result"
    }
   ],
   "source": [
    "zeroes['tweet'][34]"
   ]
  },
  {
   "cell_type": "code",
   "execution_count": 8,
   "metadata": {
    "colab": {
     "base_uri": "https://localhost:8080/",
     "height": 52
    },
    "colab_type": "code",
    "execution": {
     "iopub.execute_input": "2020-09-12T02:07:59.837926Z",
     "iopub.status.busy": "2020-09-12T02:07:59.837675Z",
     "iopub.status.idle": "2020-09-12T02:07:59.841618Z",
     "shell.execute_reply": "2020-09-12T02:07:59.841157Z",
     "shell.execute_reply.started": "2020-09-12T02:07:59.837900Z"
    },
    "id": "Mo0sR0syPVWC",
    "outputId": "d938a7af-1732-4ced-c9a8-07d990eed8af"
   },
   "outputs": [
    {
     "data": {
      "text/plain": [
       "'soooo the power just went out for a split second which is like whatever but its the last thing you want when you work at a production house lmaooooo hoping my editor saves early and often as good ole jim hurguy used to preach'"
      ]
     },
     "execution_count": 8,
     "metadata": {},
     "output_type": "execute_result"
    }
   ],
   "source": [
    "zeroes[\"tweet\"][32]"
   ]
  },
  {
   "cell_type": "code",
   "execution_count": 9,
   "metadata": {
    "colab": {
     "base_uri": "https://localhost:8080/",
     "height": 204
    },
    "colab_type": "code",
    "execution": {
     "iopub.execute_input": "2020-09-12T02:08:00.159496Z",
     "iopub.status.busy": "2020-09-12T02:08:00.159309Z",
     "iopub.status.idle": "2020-09-12T02:08:00.172432Z",
     "shell.execute_reply": "2020-09-12T02:08:00.172038Z",
     "shell.execute_reply.started": "2020-09-12T02:08:00.159477Z"
    },
    "id": "C7vIok_Oo0hG",
    "outputId": "42f0a22b-cc0d-4463-c9ce-19f6e0f500c2"
   },
   "outputs": [
    {
     "data": {
      "text/html": [
       "<div>\n",
       "<style scoped>\n",
       "    .dataframe tbody tr th:only-of-type {\n",
       "        vertical-align: middle;\n",
       "    }\n",
       "\n",
       "    .dataframe tbody tr th {\n",
       "        vertical-align: top;\n",
       "    }\n",
       "\n",
       "    .dataframe thead th {\n",
       "        text-align: right;\n",
       "    }\n",
       "</style>\n",
       "<table border=\"1\" class=\"dataframe\">\n",
       "  <thead>\n",
       "    <tr style=\"text-align: right;\">\n",
       "      <th></th>\n",
       "      <th>date</th>\n",
       "      <th>tweet</th>\n",
       "      <th>user</th>\n",
       "      <th>label</th>\n",
       "    </tr>\n",
       "  </thead>\n",
       "  <tbody>\n",
       "    <tr>\n",
       "      <th>0</th>\n",
       "      <td>2020-01-10 23:44:13+00:00</td>\n",
       "      <td>another earthquake at our hotel i wasnt there ...</td>\n",
       "      <td>TheCheesyCheska</td>\n",
       "      <td>0</td>\n",
       "    </tr>\n",
       "    <tr>\n",
       "      <th>1</th>\n",
       "      <td>2020-08-18 19:48:57+00:00</td>\n",
       "      <td>how can you build stronger business continuity...</td>\n",
       "      <td>Workday</td>\n",
       "      <td>1</td>\n",
       "    </tr>\n",
       "    <tr>\n",
       "      <th>2</th>\n",
       "      <td>2020-01-10 23:23:25+00:00</td>\n",
       "      <td>power went out and it messed up my streaming p...</td>\n",
       "      <td>FreeZ3KiLLz</td>\n",
       "      <td>1</td>\n",
       "    </tr>\n",
       "    <tr>\n",
       "      <th>3</th>\n",
       "      <td>2020-01-10 22:57:12+00:00</td>\n",
       "      <td>the power went out in my house and i keep hear...</td>\n",
       "      <td>vantaepedia</td>\n",
       "      <td>1</td>\n",
       "    </tr>\n",
       "    <tr>\n",
       "      <th>4</th>\n",
       "      <td>2020-01-10 22:56:12+00:00</td>\n",
       "      <td>well my houses power went out and im on my pho...</td>\n",
       "      <td>BlueRepublik</td>\n",
       "      <td>1</td>\n",
       "    </tr>\n",
       "  </tbody>\n",
       "</table>\n",
       "</div>"
      ],
      "text/plain": [
       "                        date  \\\n",
       "0  2020-01-10 23:44:13+00:00   \n",
       "1  2020-08-18 19:48:57+00:00   \n",
       "2  2020-01-10 23:23:25+00:00   \n",
       "3  2020-01-10 22:57:12+00:00   \n",
       "4  2020-01-10 22:56:12+00:00   \n",
       "\n",
       "                                               tweet             user  label  \n",
       "0  another earthquake at our hotel i wasnt there ...  TheCheesyCheska      0  \n",
       "1  how can you build stronger business continuity...          Workday      1  \n",
       "2  power went out and it messed up my streaming p...      FreeZ3KiLLz      1  \n",
       "3  the power went out in my house and i keep hear...      vantaepedia      1  \n",
       "4  well my houses power went out and im on my pho...     BlueRepublik      1  "
      ]
     },
     "execution_count": 9,
     "metadata": {},
     "output_type": "execute_result"
    }
   ],
   "source": [
    "df.head()"
   ]
  },
  {
   "cell_type": "code",
   "execution_count": 10,
   "metadata": {
    "colab": {
     "base_uri": "https://localhost:8080/",
     "height": 34
    },
    "colab_type": "code",
    "execution": {
     "iopub.execute_input": "2020-09-12T02:08:00.520088Z",
     "iopub.status.busy": "2020-09-12T02:08:00.519874Z",
     "iopub.status.idle": "2020-09-12T02:08:00.523290Z",
     "shell.execute_reply": "2020-09-12T02:08:00.522881Z",
     "shell.execute_reply.started": "2020-09-12T02:08:00.520064Z"
    },
    "id": "XvncoNwdo4aN",
    "outputId": "f1b58b48-ad23-4c08-a374-81853a12fd47"
   },
   "outputs": [
    {
     "data": {
      "text/plain": [
       "(279325, 4)"
      ]
     },
     "execution_count": 10,
     "metadata": {},
     "output_type": "execute_result"
    }
   ],
   "source": [
    "df.shape"
   ]
  },
  {
   "cell_type": "code",
   "execution_count": 11,
   "metadata": {
    "colab": {
     "base_uri": "https://localhost:8080/",
     "height": 173
    },
    "colab_type": "code",
    "execution": {
     "iopub.execute_input": "2020-09-12T02:08:00.973125Z",
     "iopub.status.busy": "2020-09-12T02:08:00.972899Z",
     "iopub.status.idle": "2020-09-12T02:08:00.976659Z",
     "shell.execute_reply": "2020-09-12T02:08:00.976249Z",
     "shell.execute_reply.started": "2020-09-12T02:08:00.973102Z"
    },
    "id": "bwA_TzYZrYSm",
    "outputId": "b3921261-b9d6-4635-dd59-b178967cabc5"
   },
   "outputs": [
    {
     "data": {
      "text/plain": [
       "array(['another earthquake at our hotel i wasnt there but it was a and i felt it at my familys house across the city also the power went out in reparto metropolitano in san juan and they have closed the ',\n",
       "       'how can you build stronger business continuity through fresh insights check out our guide',\n",
       "       'power went out and it messed up my streaming pc resetting it now streams might be delayed for tonight sorry friends',\n",
       "       ...,\n",
       "       'have you considered big island in hawaii yes still technically part of the united states but on the south shore away from most of the tourists its mostly a lot of very nice artsy folk and aging hippies and the weather is lovely ',\n",
       "       'the weather is nice sarap mag kape ',\n",
       "       'im getting myself some food and the weather is so nice rn '],\n",
       "      dtype=object)"
      ]
     },
     "execution_count": 11,
     "metadata": {},
     "output_type": "execute_result"
    }
   ],
   "source": [
    "df['tweet'].values"
   ]
  },
  {
   "cell_type": "markdown",
   "metadata": {
    "colab_type": "text",
    "id": "vQcHxctNo-fn"
   },
   "source": [
    "<a name=\"preprocessml\"></a>\n",
    "### **Preprocessing Data** "
   ]
  },
  {
   "cell_type": "code",
   "execution_count": 12,
   "metadata": {
    "colab": {
     "base_uri": "https://localhost:8080/",
     "height": 34
    },
    "colab_type": "code",
    "execution": {
     "iopub.execute_input": "2020-09-12T02:08:07.215056Z",
     "iopub.status.busy": "2020-09-12T02:08:07.214824Z",
     "iopub.status.idle": "2020-09-12T02:08:12.446925Z",
     "shell.execute_reply": "2020-09-12T02:08:12.446453Z",
     "shell.execute_reply.started": "2020-09-12T02:08:07.215033Z"
    },
    "id": "l31I2Nyu6g0y",
    "outputId": "024abb6e-0818-4a27-c41c-d53b72eb47e3"
   },
   "outputs": [
    {
     "name": "stdout",
     "output_type": "stream",
     "text": [
      "Found 144827 unique tokens.\n"
     ]
    }
   ],
   "source": [
    "# The maximum number of words to be used. (most frequent)\n",
    "max_words = 15_000\n",
    "\n",
    "# Max number of words in each tweet.\n",
    "# First 280 words in the tweet\n",
    "max_sequence_length = 280\n",
    "\n",
    "# This is the second argument in our embedding layer \n",
    "embedding_dimensions = 100\n",
    "\n",
    "# Keras Tokenizer turning each Tweet in the corpus into either a sequence of integers or into a vector\n",
    "# Instantiate the Tokenizer\n",
    "tokenizer = Tokenizer(num_words=max_words, filters='!\"#$%&()*+,-./:;<=>?@[\\]^_`{|}~', lower=True)\n",
    "\n",
    "# Use the tokenizer on every document in our corpus\n",
    "tokenizer.fit_on_texts(df['tweet'].values)\n",
    "\n",
    "# Replaces the word with it's index\n",
    "word_index = tokenizer.word_index\n",
    "print('Found %s unique tokens.' % len(word_index))"
   ]
  },
  {
   "cell_type": "code",
   "execution_count": 13,
   "metadata": {
    "colab": {
     "base_uri": "https://localhost:8080/",
     "height": 34
    },
    "colab_type": "code",
    "execution": {
     "iopub.execute_input": "2020-09-12T02:08:16.088511Z",
     "iopub.status.busy": "2020-09-12T02:08:16.088237Z",
     "iopub.status.idle": "2020-09-12T02:08:21.435946Z",
     "shell.execute_reply": "2020-09-12T02:08:21.435515Z",
     "shell.execute_reply.started": "2020-09-12T02:08:16.088484Z"
    },
    "id": "Df8d_SRy6hMv",
    "outputId": "53416fb2-ddc2-4921-de76-84440f6c04ab"
   },
   "outputs": [
    {
     "name": "stdout",
     "output_type": "stream",
     "text": [
      "Shape of data tensor: (279325, 280)\n"
     ]
    }
   ],
   "source": [
    "# Taking the Tweets in df['tweet'] and Tokenizing the list of Tweets\n",
    "X = tokenizer.texts_to_sequences(df['tweet'].values)\n",
    "\n",
    "# Keras pad sequence --> Make sequences the same size! Makes the shape the same \n",
    "X = pad_sequences(X, maxlen=max_sequence_length) \n",
    "print('Shape of data tensor:', X.shape)"
   ]
  },
  {
   "cell_type": "code",
   "execution_count": null,
   "metadata": {
    "colab": {},
    "colab_type": "code",
    "id": "6Unnsx2ob0DB"
   },
   "outputs": [],
   "source": []
  },
  {
   "cell_type": "code",
   "execution_count": 14,
   "metadata": {
    "colab": {
     "base_uri": "https://localhost:8080/",
     "height": 34
    },
    "colab_type": "code",
    "execution": {
     "iopub.execute_input": "2020-09-12T02:08:23.547815Z",
     "iopub.status.busy": "2020-09-12T02:08:23.547629Z",
     "iopub.status.idle": "2020-09-12T02:08:23.560739Z",
     "shell.execute_reply": "2020-09-12T02:08:23.560241Z",
     "shell.execute_reply.started": "2020-09-12T02:08:23.547793Z"
    },
    "id": "TsMi4doV6gqV",
    "outputId": "90fec59c-6008-40c4-8724-c70498ddcd76"
   },
   "outputs": [
    {
     "name": "stdout",
     "output_type": "stream",
     "text": [
      "Shape of label tensor: (279325, 2)\n"
     ]
    }
   ],
   "source": [
    "# Turn our classes into 0's and 1's\n",
    "y = pd.get_dummies(df['label']).values\n",
    "print('Shape of label tensor:', y.shape)"
   ]
  },
  {
   "cell_type": "code",
   "execution_count": 15,
   "metadata": {
    "colab": {
     "base_uri": "https://localhost:8080/",
     "height": 136
    },
    "colab_type": "code",
    "execution": {
     "iopub.execute_input": "2020-09-12T02:08:25.312472Z",
     "iopub.status.busy": "2020-09-12T02:08:25.312281Z",
     "iopub.status.idle": "2020-09-12T02:08:25.321175Z",
     "shell.execute_reply": "2020-09-12T02:08:25.320718Z",
     "shell.execute_reply.started": "2020-09-12T02:08:25.312450Z"
    },
    "id": "Zh1XAfzj1D6K",
    "outputId": "56425cca-5a04-4061-fdb4-87246e9468d0"
   },
   "outputs": [
    {
     "data": {
      "text/plain": [
       "array([[1, 0],\n",
       "       [0, 1],\n",
       "       [0, 1],\n",
       "       ...,\n",
       "       [1, 0],\n",
       "       [1, 0],\n",
       "       [1, 0]], dtype=uint8)"
      ]
     },
     "execution_count": 15,
     "metadata": {},
     "output_type": "execute_result"
    }
   ],
   "source": [
    "y"
   ]
  },
  {
   "cell_type": "code",
   "execution_count": 16,
   "metadata": {
    "colab": {
     "base_uri": "https://localhost:8080/",
     "height": 102
    },
    "colab_type": "code",
    "execution": {
     "iopub.execute_input": "2020-09-12T02:08:29.763740Z",
     "iopub.status.busy": "2020-09-12T02:08:29.763448Z",
     "iopub.status.idle": "2020-09-12T02:08:29.848797Z",
     "shell.execute_reply": "2020-09-12T02:08:29.848317Z",
     "shell.execute_reply.started": "2020-09-12T02:08:29.763702Z"
    },
    "id": "DhafqzvZ6peM",
    "outputId": "5b7ffff5-6f17-49d1-d658-1b2db0aec323"
   },
   "outputs": [
    {
     "name": "stdout",
     "output_type": "stream",
     "text": [
      "Train\n",
      "(195527, 280) (195527, 2)\n",
      "========================================\n",
      "Test\n",
      "(83798, 280) (83798, 2)\n"
     ]
    }
   ],
   "source": [
    "# Split our data into training and testing\n",
    "X_train, X_test, y_train, y_test = train_test_split(X,y, test_size = 0.30, random_state = 42)\n",
    "print('Train')\n",
    "print(X_train.shape,y_train.shape) # training data\n",
    "print('='*40)\n",
    "print('Test')\n",
    "print(X_test.shape,y_test.shape) # testing data"
   ]
  },
  {
   "cell_type": "code",
   "execution_count": 17,
   "metadata": {
    "colab": {
     "base_uri": "https://localhost:8080/",
     "height": 34
    },
    "colab_type": "code",
    "execution": {
     "iopub.execute_input": "2020-09-12T02:08:31.496862Z",
     "iopub.status.busy": "2020-09-12T02:08:31.496612Z",
     "iopub.status.idle": "2020-09-12T02:08:31.500500Z",
     "shell.execute_reply": "2020-09-12T02:08:31.499987Z",
     "shell.execute_reply.started": "2020-09-12T02:08:31.496835Z"
    },
    "id": "2O2pToZJj-yD",
    "outputId": "c1757aff-abf3-4dc7-a8d8-d62287583ab1"
   },
   "outputs": [
    {
     "data": {
      "text/plain": [
       "279325"
      ]
     },
     "execution_count": 17,
     "metadata": {},
     "output_type": "execute_result"
    }
   ],
   "source": [
    "len(X)"
   ]
  },
  {
   "cell_type": "markdown",
   "metadata": {
    "colab_type": "text",
    "id": "pMOWa1DytnO9"
   },
   "source": [
    "<a name=\"modelingml\"></a>\n",
    "## **Modeling**"
   ]
  },
  {
   "cell_type": "code",
   "execution_count": 18,
   "metadata": {
    "colab": {
     "base_uri": "https://localhost:8080/",
     "height": 392
    },
    "colab_type": "code",
    "execution": {
     "iopub.execute_input": "2020-09-12T02:09:02.258813Z",
     "iopub.status.busy": "2020-09-12T02:09:02.258593Z",
     "iopub.status.idle": "2020-09-12T03:05:23.479938Z",
     "shell.execute_reply": "2020-09-12T03:05:23.479610Z",
     "shell.execute_reply.started": "2020-09-12T02:09:02.258789Z"
    },
    "id": "-9Bsmb_I6psv",
    "outputId": "5ccf070f-e347-4afc-8121-044500c35906"
   },
   "outputs": [
    {
     "name": "stdout",
     "output_type": "stream",
     "text": [
      "Epoch 1/5\n",
      "2750/2750 [==============================] - 685s 249ms/step - loss: 0.1064 - accuracy: 0.9662 - val_loss: 0.0648 - val_accuracy: 0.9831\n",
      "Epoch 2/5\n",
      "2750/2750 [==============================] - 677s 246ms/step - loss: 0.0571 - accuracy: 0.9844 - val_loss: 0.0631 - val_accuracy: 0.9839\n",
      "Epoch 3/5\n",
      "2750/2750 [==============================] - 671s 244ms/step - loss: 0.0463 - accuracy: 0.9854 - val_loss: 0.0718 - val_accuracy: 0.9842\n",
      "Epoch 4/5\n",
      "2750/2750 [==============================] - 674s 245ms/step - loss: 0.0348 - accuracy: 0.9882 - val_loss: 0.0806 - val_accuracy: 0.9835\n",
      "Epoch 5/5\n",
      "2750/2750 [==============================] - 671s 244ms/step - loss: 0.0249 - accuracy: 0.9912 - val_loss: 0.0945 - val_accuracy: 0.9815\n"
     ]
    }
   ],
   "source": [
    "model = Sequential() #Instantiate the Sequential Model\n",
    "\n",
    "model.add(Embedding(max_words, embedding_dimensions, input_length=X.shape[1])) # Adding the embedding layer 1st\n",
    "model.add(SpatialDropout1D(0.10)) # Adding dropout layers to limit overfitting\n",
    "model.add(LSTM(100, dropout=0.10, recurrent_dropout=0.10)) # Adding dropout layers to limit overfitting\n",
    "model.add(Dense(2, activation='softmax'))\n",
    "model.compile(loss='categorical_crossentropy', optimizer='adam', metrics=['accuracy'])\n",
    "\n",
    "epochs = 5\n",
    "batch_size = 64\n",
    "\n",
    "history = model.fit(X_train, y_train, epochs=epochs, batch_size=batch_size,validation_split=0.1,callbacks=[EarlyStopping(monitor='val_loss', patience=3, min_delta=0.001)])"
   ]
  },
  {
   "cell_type": "code",
   "execution_count": 19,
   "metadata": {
    "colab": {
     "base_uri": "https://localhost:8080/",
     "height": 289
    },
    "colab_type": "code",
    "execution": {
     "iopub.execute_input": "2020-09-12T03:06:07.612392Z",
     "iopub.status.busy": "2020-09-12T03:06:07.612244Z",
     "iopub.status.idle": "2020-09-12T03:06:07.615487Z",
     "shell.execute_reply": "2020-09-12T03:06:07.615178Z",
     "shell.execute_reply.started": "2020-09-12T03:06:07.612378Z"
    },
    "id": "G4BzdiqSh2Z6",
    "outputId": "a2030f9c-cdc0-42d3-ba5b-dd4b70ec3eca"
   },
   "outputs": [
    {
     "name": "stdout",
     "output_type": "stream",
     "text": [
      "Model: \"sequential\"\n",
      "_________________________________________________________________\n",
      "Layer (type)                 Output Shape              Param #   \n",
      "=================================================================\n",
      "embedding (Embedding)        (None, 280, 100)          1500000   \n",
      "_________________________________________________________________\n",
      "spatial_dropout1d (SpatialDr (None, 280, 100)          0         \n",
      "_________________________________________________________________\n",
      "lstm (LSTM)                  (None, 100)               80400     \n",
      "_________________________________________________________________\n",
      "dense (Dense)                (None, 2)                 202       \n",
      "=================================================================\n",
      "Total params: 1,580,602\n",
      "Trainable params: 1,580,602\n",
      "Non-trainable params: 0\n",
      "_________________________________________________________________\n"
     ]
    }
   ],
   "source": [
    "model.summary()"
   ]
  },
  {
   "cell_type": "code",
   "execution_count": 20,
   "metadata": {
    "colab": {
     "base_uri": "https://localhost:8080/",
     "height": 85
    },
    "colab_type": "code",
    "execution": {
     "iopub.execute_input": "2020-09-12T03:06:11.336155Z",
     "iopub.status.busy": "2020-09-12T03:06:11.335973Z",
     "iopub.status.idle": "2020-09-12T03:07:29.998308Z",
     "shell.execute_reply": "2020-09-12T03:07:29.997830Z",
     "shell.execute_reply.started": "2020-09-12T03:06:11.336137Z"
    },
    "id": "BTFJzu-Y6gIR",
    "outputId": "515a13a6-3d1b-4091-f9f9-5ab2a6e85a9c"
   },
   "outputs": [
    {
     "name": "stdout",
     "output_type": "stream",
     "text": [
      "2619/2619 [==============================] - 79s 30ms/step - loss: 0.0859 - accuracy: 0.9829\n",
      "Test set\n",
      "  Loss: 0.086\n",
      "  Accuracy: 0.983\n"
     ]
    }
   ],
   "source": [
    "# Evaluating our model on the Testing Data\n",
    "accr = model.evaluate(X_test,y_test)\n",
    "print('Test set\\n  Loss: {:0.3f}\\n  Accuracy: {:0.3f}'.format(accr[0],accr[1]))"
   ]
  },
  {
   "cell_type": "code",
   "execution_count": 21,
   "metadata": {
    "colab": {
     "base_uri": "https://localhost:8080/",
     "height": 249
    },
    "colab_type": "code",
    "execution": {
     "iopub.execute_input": "2020-09-12T03:07:37.162704Z",
     "iopub.status.busy": "2020-09-12T03:07:37.162467Z",
     "iopub.status.idle": "2020-09-12T03:07:37.348006Z",
     "shell.execute_reply": "2020-09-12T03:07:37.347431Z",
     "shell.execute_reply.started": "2020-09-12T03:07:37.162677Z"
    },
    "id": "CTp9SVN8p1Zc",
    "outputId": "a3deafaf-5f81-42cd-c777-a0cbe4cd4893"
   },
   "outputs": [
    {
     "name": "stdout",
     "output_type": "stream",
     "text": [
      "[[0.00153951 0.99846053]] 1\n"
     ]
    }
   ],
   "source": [
    "# Example of how the model would classify a Tweet\n",
    "new_tweet = [\"I feel like David is going to try to act surprised when he’s saved. Problem is no one will buy it. Everyone suspects he or kevin have a power.\"]\n",
    "# The above text shows a misclassification\n",
    "seq = tokenizer.texts_to_sequences(new_tweet)\n",
    "padded = pad_sequences(seq, maxlen=max_sequence_length)\n",
    "pred = model.predict(padded)\n",
    "labels = [0, 1]\n",
    "print(pred, labels[np.argmax(pred)])"
   ]
  },
  {
   "cell_type": "code",
   "execution_count": 22,
   "metadata": {
    "colab": {
     "base_uri": "https://localhost:8080/",
     "height": 156
    },
    "colab_type": "code",
    "execution": {
     "iopub.execute_input": "2020-09-12T03:08:21.136553Z",
     "iopub.status.busy": "2020-09-12T03:08:21.136376Z",
     "iopub.status.idle": "2020-09-12T03:08:22.731106Z",
     "shell.execute_reply": "2020-09-12T03:08:22.730715Z",
     "shell.execute_reply.started": "2020-09-12T03:08:21.136534Z"
    },
    "id": "fPyzkaRmZtsm",
    "outputId": "0d696368-9720-4e51-d985-48d3d43a55e0"
   },
   "outputs": [
    {
     "name": "stdout",
     "output_type": "stream",
     "text": [
      "WARNING:tensorflow:From /home/dlee/anaconda3/envs/tensorflow/lib/python3.8/site-packages/tensorflow/python/ops/resource_variable_ops.py:1813: calling BaseResourceVariable.__init__ (from tensorflow.python.ops.resource_variable_ops) with constraint is deprecated and will be removed in a future version.\n",
      "Instructions for updating:\n",
      "If using Keras pass *_constraint arguments to layers.\n",
      "INFO:tensorflow:Assets written to: saved_model/lstm_rnn_model_/assets\n"
     ]
    }
   ],
   "source": [
    "# Save the entire model as a SavedModel.\n",
    "model.save('saved_model/lstm_rnn_model_')"
   ]
  },
  {
   "cell_type": "code",
   "execution_count": 23,
   "metadata": {
    "colab": {
     "base_uri": "https://localhost:8080/",
     "height": 34
    },
    "colab_type": "code",
    "execution": {
     "iopub.execute_input": "2020-09-12T03:09:09.573150Z",
     "iopub.status.busy": "2020-09-12T03:09:09.572921Z",
     "iopub.status.idle": "2020-09-12T03:09:09.575997Z",
     "shell.execute_reply": "2020-09-12T03:09:09.575557Z",
     "shell.execute_reply.started": "2020-09-12T03:09:09.573128Z"
    },
    "id": "EeB5pduZvphv",
    "outputId": "85bdc47c-2511-4e8f-dad9-01d5d3fe8ae8"
   },
   "outputs": [
    {
     "name": "stdout",
     "output_type": "stream",
     "text": [
      "2.2.0\n"
     ]
    }
   ],
   "source": [
    "print(tf.__version__)"
   ]
  }
 ],
 "metadata": {
  "colab": {
   "collapsed_sections": [],
   "machine_shape": "hm",
   "name": "proj5_nn",
   "provenance": []
  },
  "kernelspec": {
   "display_name": "Python 3",
   "language": "python",
   "name": "python3"
  },
  "language_info": {
   "codemirror_mode": {
    "name": "ipython",
    "version": 3
   },
   "file_extension": ".py",
   "mimetype": "text/x-python",
   "name": "python",
   "nbconvert_exporter": "python",
   "pygments_lexer": "ipython3",
   "version": "3.8.3"
  }
 },
 "nbformat": 4,
 "nbformat_minor": 4
}
